{
 "cells": [
  {
   "cell_type": "code",
   "execution_count": 1,
   "id": "15afcee8",
   "metadata": {},
   "outputs": [],
   "source": [
    "def prefilter_items(data):\n",
    "    # Уберем самые популярные товары (их и так купят)\n",
    "    popularity = data_train.groupby('item_id')['user_id'].nunique().reset_index() / data_train['user_id'].nunique()\n",
    "    popularity.rename(columns={'user_id': 'share_unique_users'}, inplace=True)\n",
    "    \n",
    "    top_popular = popularity[popularity['share_unique_users'] > 0.5].item_id.tolist()\n",
    "    data = data[~data['item_id'].isin(top_popular)]\n",
    "    \n",
    "    # Уберем самые НЕ популярные товары (их и так НЕ купят)\n",
    "    top_notpopular = popularity[popularity['share_unique_users'] < 0.01].item_id.tolist()\n",
    "    data = data[~data['item_id'].isin(top_notpopular)]\n",
    "    \n",
    "    # Уберем товары, которые не продавались за последние 12 месяцев\n",
    "    old_items = data.groupby(by=['item_id'])['item_id', 'week_no'].max()\n",
    "    old_items = list(old_items[old_items['week_no'] <= (data['week_no'].max() - 52)].index)\n",
    "    data = data[~data['item_id'].isin(old_items)]\n",
    "    # Уберем не интересные для рекоммендаций категории (department)\n",
    "    # к примеру уберем товары купленные менее 500 раз\n",
    "    top_departments = data['department'].value_counts()[lambda x: x > 500].index\n",
    "    data = data[data['department'].isin(top_departments)]\n",
    "    \n",
    "    # Уберем слишком дешевые товары (на них не заработаем). 1 покупка из рассылок стоит 60 руб. допустим примерно 10 центов\n",
    "    data['price'] = data['sales_value'] / (np.maximum(data['quantity'], 1))\n",
    "    data = data[data['price'] > 0.1]\n",
    "    # Уберем слишком дорогие товары\n",
    "    data = data[data['price'] < data['price'].quantile(0.99995)]\n",
    "    # ...\n",
    "    \n",
    "def postfilter_items(user_id, recommednations):\n",
    "    pass"
   ]
  },
  {
   "cell_type": "markdown",
   "id": "69674bae",
   "metadata": {},
   "source": [
    "1) Попытаться ответить на вопросы/выдвинуть гипотезы\n"
   ]
  },
  {
   "cell_type": "markdown",
   "id": "54c1debf",
   "metadata": {},
   "source": [
    "### А точно нужно сортировать по вероятности?\n",
    "\n",
    "Мы не считаем вероятности. Мы можем поделить товары на категории и предложить популярное из той категории, которой пользователь интересуется. Либо проаналиpировать те товары, которые покупатель преобретал, и предложить то, что преобретают другие покупатели с такими же товарами в корзине.\n",
    "\n",
    "### Какую метрику использовать?\n",
    "\n",
    "Для оценки качества следует пользоваться метрикой precision.\n",
    "\n",
    "### Сколько раз в неделю отправляем рассылку?\n",
    "\n",
    "Тут может быть несколько вариантов.\n",
    "Когда пользователь только зарегистировался, то практически сразу ему стоит, что нибудь предложить. А дальше рассылка может идти по мере потери интереса у пользователя, например он стал реже посещать или стал реже покупать товары, то стоит сделать ему рассылку. Или это должна быть некоторая триггерная схема, какой то интересные товар стали чаще покупать, если пользователь его не преобретал, то стоит ему предложить этот товар.\n",
    "\n",
    "### В какое время отправляем рассылку?\n",
    "\n",
    "С учетом часовых поясов, в не рабочее время для пользователя.\n",
    "\n",
    "### Будем отправлять одному юзеру много раз наши рекоммендации. Как добиться того, чтобы они хоть немного отличались?\n",
    "\n",
    "Делать проверку этих рекомендаций с тем что было уже отправлено, фиксировать когда была сделана предыдущая отправка пользователю.\n",
    "\n",
    "### Нужно ли, чтобы в одной рассылке были разные товары? Как определить, что товары разные? Как добиться того, чтобы они были разными?\n",
    "\n",
    "Нужно. Следует изначально разбить товары на категории, предложить сначала то, что попало в топ, далее посмотреть, что еще покупали клиенты, которые интересовались данным товаром из уже предложенного."
   ]
  },
  {
   "cell_type": "code",
   "execution_count": null,
   "id": "d9eb8443",
   "metadata": {},
   "outputs": [],
   "source": []
  }
 ],
 "metadata": {
  "kernelspec": {
   "display_name": "Python 3 (ipykernel)",
   "language": "python",
   "name": "python3"
  },
  "language_info": {
   "codemirror_mode": {
    "name": "ipython",
    "version": 3
   },
   "file_extension": ".py",
   "mimetype": "text/x-python",
   "name": "python",
   "nbconvert_exporter": "python",
   "pygments_lexer": "ipython3",
   "version": "3.9.7"
  }
 },
 "nbformat": 4,
 "nbformat_minor": 5
}
